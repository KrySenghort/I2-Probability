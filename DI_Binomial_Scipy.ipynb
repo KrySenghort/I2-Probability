{
  "cells": [
    {
      "attachments": {},
      "cell_type": "markdown",
      "id": "81d8a65d-65a9-4f1c-9143-b22c37f5c22c",
      "metadata": {
        "id": "81d8a65d-65a9-4f1c-9143-b22c37f5c22c"
      },
      "source": [
        "# Binomial Distribution with Python and Scipy\n",
        "*By P. Stikker*<br>\n",
        "https://PeterStatistics.com<br>\n",
        "https://www.youtube.com/stikpet<br>\n",
        "____"
      ]
    },
    {
      "attachments": {},
      "cell_type": "markdown",
      "id": "70333076-e405-4f28-bb19-4ec37bd36d0e",
      "metadata": {
        "id": "70333076-e405-4f28-bb19-4ec37bd36d0e"
      },
      "source": [
        "The distribution of probabilities of the possible $k$ outcomes given $n$ trials, and a probability of success on each trial $p$ remaining the same.\n",
        "\n",
        "The binomial distribution has the following probability mass function:\n",
        "\n",
        "$$bpmf\\left(n,k,p\\right) = \\binom{n}{k}p^k\\left(1 - p\\right)^{n - k}$$\n",
        "\n",
        "Where $n$ is the number of trials, $k$ the number of successes, and $p$ the probability of success on each trial.\n",
        "\n",
        "This formula uses the binomial coefficient, which is defined as:\n",
        "$$\\binom{a}{b}=\\frac{a!}{b!\\left(a-b\\right)!}$$\n",
        "\n",
        "The factorial operator (!) can be defined as:\n",
        "$$x! = \\prod_{i=1}^{x}i$$\n",
        "\n",
        "The binomial cumulative density function is a simple summing over the various pmf's:\n",
        "$$bcdf\\left(n,k,p\\right) = \\sum_{i=0}^{\\lfloor k\\rfloor}bpmf\\left(n,i,p\\right)$$\n",
        "\n",
        "Where $\\lfloor...\\rfloor$ indicates the floor operator, which rounds a decimal towards 0 if it is positive, and away from 0 if it is negative, or in other words it gives the greatest integer less than or equal to the given value.\n",
        "\n",
        "How these formulas came to be is explained in the appendix."
      ]
    },
    {
      "attachments": {},
      "cell_type": "markdown",
      "id": "5661aed4-bae7-4483-b185-0dd9de271d04",
      "metadata": {
        "id": "5661aed4-bae7-4483-b185-0dd9de271d04"
      },
      "source": [
        "# Using Scipy"
      ]
    },
    {
      "attachments": {},
      "cell_type": "markdown",
      "id": "c6c0b980-4cb1-4333-b0ed-ad5993a3bc7e",
      "metadata": {
        "id": "c6c0b980-4cb1-4333-b0ed-ad5993a3bc7e"
      },
      "source": [
        "The most simple method to use the binomial distribution is to make use of the <a href=\"https://www.scipy.org\">*scipy*</a> library. If you never used this library before you need to install it first, otherwise you can import the <a href=\"https://docs.scipy.org/doc/scipy/reference/generated/scipy.stats.binom.html\">**binom**</a> function directly from the <a href=\"https://docs.scipy.org/doc/scipy/reference/stats.html\">*stats*</a> sub-library:"
      ]
    },
    {
      "cell_type": "code",
      "execution_count": null,
      "id": "17ca23d9-698f-4864-b420-be9a9eafc5a7",
      "metadata": {
        "id": "17ca23d9-698f-4864-b420-be9a9eafc5a7"
      },
      "outputs": [],
      "source": [
        "#!pip install scipy\n",
        "from scipy.stats import binom"
      ]
    },
    {
      "attachments": {},
      "cell_type": "markdown",
      "id": "721f3844-468e-4f45-8e79-2cd1b352d146",
      "metadata": {
        "id": "721f3844-468e-4f45-8e79-2cd1b352d146"
      },
      "source": [
        "The functions will usually require the number of successes $k$, the number of trials $n$, and the probability of success on each trial $p$. Lets use as an example $n=10$, $k=4$, and $p=0.3$:"
      ]
    },
    {
      "cell_type": "code",
      "execution_count": null,
      "id": "6704c73c-bffc-444b-aef0-71bb49134895",
      "metadata": {
        "id": "6704c73c-bffc-444b-aef0-71bb49134895"
      },
      "outputs": [],
      "source": [
        "n = 10\n",
        "k = 4\n",
        "p = 0.3"
      ]
    },
    {
      "attachments": {},
      "cell_type": "markdown",
      "id": "473425b3-2611-45e6-90b7-90f09fbe702e",
      "metadata": {
        "id": "473425b3-2611-45e6-90b7-90f09fbe702e"
      },
      "source": [
        "The binomial probability mass function can then be used simply by providing the number of successes, the number of trials,  and the probability of success on each trial. "
      ]
    },
    {
      "cell_type": "code",
      "execution_count": null,
      "id": "e16088b3-345e-4f88-bbc9-787259d2c383",
      "metadata": {
        "id": "e16088b3-345e-4f88-bbc9-787259d2c383",
        "outputId": "f54678ff-e7ef-4a90-da31-c1cbc402ec19"
      },
      "outputs": [
        {
          "data": {
            "text/plain": [
              "0.2001209489999999"
            ]
          },
          "execution_count": 3,
          "metadata": {},
          "output_type": "execute_result"
        }
      ],
      "source": [
        "binom.pmf(k, n, p)"
      ]
    },
    {
      "attachments": {},
      "cell_type": "markdown",
      "id": "8ffcfb3c-f69b-4870-8425-f768ab99b97c",
      "metadata": {
        "id": "8ffcfb3c-f69b-4870-8425-f768ab99b97c"
      },
      "source": [
        "So, the probability of having 4 successes out of 10 trials, if the probability of success would be 0.3 on each trial, is 0.2001."
      ]
    },
    {
      "attachments": {},
      "cell_type": "markdown",
      "id": "4e4c87f5-74dd-4b0d-8f96-0f9bc6e33ad3",
      "metadata": {
        "id": "4e4c87f5-74dd-4b0d-8f96-0f9bc6e33ad3"
      },
      "source": [
        "The cumulative density function is also available as **cdf**:"
      ]
    },
    {
      "cell_type": "code",
      "execution_count": null,
      "id": "5ff77ecc-6354-4378-b96e-08ab2607069b",
      "metadata": {
        "id": "5ff77ecc-6354-4378-b96e-08ab2607069b",
        "outputId": "fe8c642d-a712-4648-fee6-89dc2ed0ac4f"
      },
      "outputs": [
        {
          "data": {
            "text/plain": [
              "0.8497316674000001"
            ]
          },
          "execution_count": 4,
          "metadata": {},
          "output_type": "execute_result"
        }
      ],
      "source": [
        "binom.cdf(k, n, p)"
      ]
    },
    {
      "attachments": {},
      "cell_type": "markdown",
      "id": "88a7856d-6e59-49c1-86ae-64ad9dede85b",
      "metadata": {
        "id": "88a7856d-6e59-49c1-86ae-64ad9dede85b"
      },
      "source": [
        "This is, the probability of having 4 successes **or less** out of 10 trials, if the probability of success would be 0.3 on each trial. It is about 0.8497."
      ]
    },
    {
      "attachments": {},
      "cell_type": "markdown",
      "id": "9553d5e6-c4a9-40c8-ae46-8df24e5ee224",
      "metadata": {
        "id": "9553d5e6-c4a9-40c8-ae46-8df24e5ee224"
      },
      "source": [
        "Another option is the **survival function** which is the opposite of the **cdf**, i.e. sf = 1 - cdf."
      ]
    },
    {
      "cell_type": "code",
      "execution_count": null,
      "id": "d2151ed6-16c8-4a31-9280-9696775fd409",
      "metadata": {
        "id": "d2151ed6-16c8-4a31-9280-9696775fd409",
        "outputId": "c6f3d9a5-0900-41ed-f41b-3a7ba2867c95"
      },
      "outputs": [
        {
          "data": {
            "text/plain": [
              "0.15026833259999992"
            ]
          },
          "execution_count": 5,
          "metadata": {},
          "output_type": "execute_result"
        }
      ],
      "source": [
        "binom.sf(k, n, p)"
      ]
    },
    {
      "attachments": {},
      "cell_type": "markdown",
      "id": "13aa6e70-c238-43ab-a55c-d4472e7c1bf2",
      "metadata": {
        "id": "13aa6e70-c238-43ab-a55c-d4472e7c1bf2"
      },
      "source": [
        "This is, the probability of **NOT** having 4 successes or less out of 10 trials, if the probability of success would be 0.3 on each trial. \n",
        "Note that this is therefor the probability of having 5 or more successes."
      ]
    },
    {
      "attachments": {},
      "cell_type": "markdown",
      "id": "fe38f8ab-fb56-4819-a9e1-8f1c491db0ae",
      "metadata": {
        "id": "fe38f8ab-fb56-4819-a9e1-8f1c491db0ae"
      },
      "source": [
        "## Appendix: The Formula Explained"
      ]
    },
    {
      "attachments": {},
      "cell_type": "markdown",
      "id": "e02ddbe4-74ba-4096-9bf6-07d9f065f1d8",
      "metadata": {
        "id": "e02ddbe4-74ba-4096-9bf6-07d9f065f1d8"
      },
      "source": [
        "If you were to repeat an event $n$ times, and each time the probability for a success $p$ is the same, the binomial distribution will show the probability of having $k$ successes.\n",
        "\n",
        "A dice is a standard example. A regular dice has six sides, and the probability for rolling a five would then be $\\frac{1}{6}$, each time we roll the dice.\n",
        "\n",
        "If we were to roll the dice four times (i.e. $n = 4$), and consider rolling a five a success (hence $p = \\frac{1}{6}$), the binomial distribution shows the probability of rolling 0 times a five, 1 time a five, 2 times a five, 3 times a five or even 4 times a five.\n",
        "\n",
        "If we were to roll 0 times a five, it means we never rolled a five. The chance of not rolling a five (the chance of failure ($q$)):\n",
        "$$q = 1 - p = 1 - \\frac{1}{6} = \\frac{5}{6}$$\n",
        "We need to roll four times in a row, not a 5, so the chance for this is:\n",
        "$$P\\left(k=0\\right) = q \\times q \\times q \\times q = q^4 = \\left(\\frac{5}{6}\\right)^4 = \\frac{5^4}{6^4} = \\frac{625}{1296}\\approx0.4823$$\n",
        "\n",
        "Rolling a five exactly one time, also means not rolling it the other three times. We could have rolled a five on the first throw, and then three times not. The probability for this would be:\n",
        "$$p \\times q \\times q \\times q = p \\times q^3 = \\frac{1}{6} \\times \\left(\\frac{5}{6}\\right)^3 = \\frac{1}{6} \\times\\frac{5^3}{6^3} = \\frac{1}{6} \\times\\frac{125}{216} = \\frac{125}{1296}\\approx0.0965$$\n",
        "\n",
        "But...this is just for having the first roll being a five and the other three not, we could also have only the second roll being a five, or the third, or the fourth. So using 5 for rolling a 5 and X for not, we can represent these with: 5-X-X-X, X-5-X-X, X-X-5-X, X-X-X-5.\n",
        "However, since we are only multiplying the order does not really matter. So we can simply multiply our previous result by the number of possible variations, in this case four:\n",
        "$$P\\left(k=1\\right) = 4\\times\\frac{125}{1296} = \\frac{500}{1296}= \\frac{125}{324} \\approx0.3858$$\n",
        "\n",
        "How about rolling twice a five. With the same reasoning we can calculate the probability of one of the possible ways to do this, to be:\n",
        "$$p \\times p \\times q \\times q = p^2 \\times q^2 = \\left(\\frac{1}{6}\\right)^2 \\times \\left(\\frac{5}{6}\\right)^2 = \\frac{1^2}{6^2} \\times\\frac{5^2}{6^2} = \\frac{1}{36} \\times\\frac{25}{36} = \\frac{25}{1296}\\approx0.0193$$\n",
        "We can have the first two throws being a five, the first and the third, the first and the fourth, the second and the third, the second and the fourth, and the third and the fourth. Short notation: 5-5-X-X, 5-X-5-X, 5-X-X-5, X-5-5-X, X-5-X-5, X-X-5-5. So, in total 6 possible variations:\n",
        "$$P\\left(k=2\\right) = 6\\times\\frac{25}{1296} = \\frac{150}{1296}= \\frac{25}{216} \\approx0.1157$$\n",
        "\n",
        "Okay, almost there. Rolling it three times:\n",
        "$$p \\times p \\times p \\times q = p^3 \\times q = \\left(\\frac{1}{6}\\right)^3 \\times \\frac{5}{6} = \\frac{1^3}{6^3} \\times\\frac{5}{6} = \\frac{1}{216} \\times\\frac{5}{6} = \\frac{5}{1296}\\approx0.0039$$\n",
        "We can have three times a five with the first three, the first two and the last, the first and the last two, or the last three. Short notation: 5-5-5-X, 5-5-X-5, 5-X-5-5, X-5-5-5. So 3 possible variations:\n",
        "$$P\\left(k=3\\right) = 4\\times\\frac{5}{1296} = \\frac{20}{1296}= \\frac{5}{324} \\approx0.01543$$\n",
        "\n",
        "And finally four times a five, for which there is only one possible variation (5-5-5-5):\n",
        "$$P\\left(k=4\\right) = p \\times p \\times p \\times p = p^4 = \\frac{1^4}{6^4} = \\frac{1}{1296} \\approx0.0008$$\n",
        "\n",
        "So, the binomial distribution of our dice rolling is a bar-chart with on the horizontal axis our values from k going from 0 to 4, and as heights the found probabilities.\n",
        "\n",
        "\n"
      ]
    },
    {
      "attachments": {},
      "cell_type": "markdown",
      "id": "ecd30294-5103-4a4e-8dd3-9e51c85c4ac6",
      "metadata": {
        "id": "ecd30294-5103-4a4e-8dd3-9e51c85c4ac6"
      },
      "source": [
        "Notice that in the calculations we always had the probability of success ($p$), raised to the power of how many successes ($k$) we wanted, and then multiplied by the probability of failure ($q$) to the power of the remaining number of throws ($n - k$). So if we were to generalize the calculation we could use:\n",
        "$$p^k\\times q^{n-k}$$\n",
        "\n",
        "The tricky bit is that this needs to be multiplied by the number of possible combinations."
      ]
    },
    {
      "attachments": {},
      "cell_type": "markdown",
      "id": "c7181d9b-e3dc-4aa9-9639-1fff4b4d8b6b",
      "metadata": {
        "id": "c7181d9b-e3dc-4aa9-9639-1fff4b4d8b6b"
      },
      "source": [
        "If we have $n$ items that we can choose from, and $k$ spots, we could choose out of $n$ items for our first spot. If we are not allowed to repeat the same item, this leaves $n-1$ items for our second spot, $n-2$ for the third, etc.\n",
        "\n",
        "Now with $n$ options for the first spot, and $n-1$ options for the second, this gives $n\\times\\left(n-1\\right)$ possible combinations for the first two spots. For the first three spots we get $n\\times\\left(n-1\\right)\\times\\left(n-2\\right)$. We can repeat this uptil all spots are used, i.e. $n\\times\\left(n-1\\right)\\times\\left(n-2\\right)\\times...\\times\\left(n-k+1\\right)$. \n",
        "\n",
        "To put this in math notation we can make use of the factorial operator !. This indicates a product of all integers going from 1 to the indicated value. So for example $5! = 1\\times2\\times3\\times4\\times5$. If we would use $n!$ we get:\n",
        "$$n! = 1\\times2\\times...\\times\\left(n-1\\right)\\times n$$\n",
        "This is too much for what we need. We only need it to go up to $n-k-1$. We can get rid of the rest by dividing by $\\left(n-k\\right)!$.\n",
        "\n",
        "$$\\frac{n!}{\\left(n-k\\right)!} = \\frac{1\\times2\\times...\\times\\left(n-k-1\\right)\\times\\left(n-k\\right)\\times\\left(n-k+1\\right)\\times...\\times n}{1\\times2\\times...\\times\\left(n-k-1\\right)\\times\\left(n-k\\right)}$$\n",
        "\n",
        "If you cross out the factors that the numerator and denominator have in common, all the factors in the denominator disappear and you are left with:\n",
        "$$\\frac{n!}{\\left(n-k\\right)!} = \\left(n-k+1\\right)\\times\\left(n-k+2\\right)\\times...\\times n$$\n",
        "\n",
        "So, for example if I roll four times, and interested in rolling twice a five, I get:\n",
        "$$\\frac{4!}{\\left(4-2\\right)!} = \\left(4-2+1\\right)\\times 4= 3\\times 4 = 12$$\n",
        "\n",
        "These twelve options are first roll and second roll, first roll and third, first roll and fourth, second roll and first, second roll and third, etc.\n",
        "(on roll 1-2, 1-3, 1-4, 2-1, 2-3, 2-4, 3-1, 3-2, 3-4, 4-1, 4-2, 4-3).\n",
        "\n",
        "However, as you might notice rolling a five on the first and second, would be the same as rolling it on the second and first. We have too many variations. We need to divide our result by how many of these will be the same. This depends on how many times we wanted a success. In the example it was twice a five, so 2. Now I can pick again out of 2 for my first one, and then only one option left for the second. So in general $k!$. If we were interested in rolling three times a five, then $k=3$ and we'll get for each variation $k!$ times.\n",
        "\n",
        "Finally we can create the formula for determining how many variations we have in our original example. We need to divide the previous formula by this $k!$:\n",
        "$$\\frac{\\left(\\frac{n!}{\\left(n-k\\right)!}\\right)}{k!} = \\frac{n!}{k!\\left(n-k\\right)!}$$\n",
        "\n",
        "This is known as the binomial coefficient, and noted as:\n",
        "$$\\binom{n}{k} = \\frac{n!}{k!\\left(n-k\\right)!}$$\n",
        "\n",
        "Remember that this only produces how many variations we have, this still needs to be multiplied with our earlier found $p^k\\times q^{n-k}$:\n",
        "$$ \\binom{n}{k}\\times p^k \\times q^{n-k} $$\n",
        "\n",
        "This is the binomial probability mass function (bpm)."
      ]
    },
    {
      "attachments": {},
      "cell_type": "markdown",
      "id": "4df1d56c",
      "metadata": {},
      "source": []
    }
  ],
  "metadata": {
    "colab": {
      "provenance": []
    },
    "kernelspec": {
      "display_name": "Python 3 (ipykernel)",
      "language": "python",
      "name": "python3"
    },
    "language_info": {
      "codemirror_mode": {
        "name": "ipython",
        "version": 3
      },
      "file_extension": ".py",
      "mimetype": "text/x-python",
      "name": "python",
      "nbconvert_exporter": "python",
      "pygments_lexer": "ipython3",
      "version": "3.8.13"
    }
  },
  "nbformat": 4,
  "nbformat_minor": 5
}
